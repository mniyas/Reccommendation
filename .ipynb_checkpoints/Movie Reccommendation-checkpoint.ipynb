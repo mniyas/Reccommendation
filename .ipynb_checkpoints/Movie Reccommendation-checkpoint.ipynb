{
 "cells": [
  {
   "cell_type": "code",
   "execution_count": null,
   "metadata": {
    "collapsed": true
   },
   "outputs": [],
   "source": []
  },
  {
   "cell_type": "code",
   "execution_count": 1,
   "metadata": {
    "collapsed": true
   },
   "outputs": [],
   "source": [
    "critics={'Lisa Rose':{'Lady in the water':2.5,'Snakes on a Plane':3.5,'Just My Luck':3.0, 'Superman Returns':3.5,\n",
    "                      'You, Me and Dupree':2.5,'The Night Listener':3.0},\n",
    "         'Gene Seymour':{'Lady in the water':3.0,'Snakes on a Plane':3.5,'Just My Luck':1.5, 'Superman Returns':5.0,\n",
    "                      'You, Me and Dupree':3.5,'The Night Listener':3.0},\n",
    "         'Michael Phillips':{'Lady in the water':2.5,'Snakes on a Plane':3.0,'Just My Luck':3.0, 'Superman Returns':3.5,\n",
    "                      'The Night Listener':4.0},\n",
    "         'Claudia Puig':{'Lady in the water':2.5,'Snakes on a Plane':3.0,'Just My Luck':3.5, 'Superman Returns':3.5,\n",
    "                      'You, Me and Dupree':2.5,'The Night Listener':4.0},\n",
    "         'Mick LaSalle':{'Lady in the water':3.0,'Snakes on a Plane':4.0,'Just My Luck':2.0, 'Superman Returns':4.0,\n",
    "                      'You, Me and Dupree':2.0,'The Night Listener':4.5},\n",
    "         'Jack Mathews':{'Lady in the water':3.0,'Snakes on a Plane':4.0,'Superman Returns':5.0,\n",
    "                      'You, Me and Dupree':3.5,'The Night Listener':3.0},\n",
    "         'Toby':{'Snakes on a Plane':4.5, 'Superman Returns':4.0,'You, Me and Dupree':1.0}\n",
    "        }\n"
   ]
  },
  {
   "cell_type": "code",
   "execution_count": 2,
   "metadata": {
    "collapsed": false
   },
   "outputs": [
    {
     "data": {
      "text/plain": [
       "{'Snakes on a Plane': 4.5,\n",
       " 'Snakes on a plane': 4.5,\n",
       " 'Superman Returns': 4.0,\n",
       " 'You, Me and Dupree': 1.0}"
      ]
     },
     "execution_count": 2,
     "metadata": {},
     "output_type": "execute_result"
    }
   ],
   "source": [
    "critics['Toby']['Snakes on a plane']=4.5\n",
    "critics['Toby']"
   ]
  },
  {
   "cell_type": "code",
   "execution_count": 3,
   "metadata": {
    "collapsed": false
   },
   "outputs": [
    {
     "data": {
      "text/plain": [
       "0.14814814814814814"
      ]
     },
     "execution_count": 3,
     "metadata": {},
     "output_type": "execute_result"
    }
   ],
   "source": [
    "from math import sqrt\n",
    "#Return a distance-based similarity score for person1 and person2\n",
    "def sim_distance(prefs,person1,person2):\n",
    "    si={}\n",
    "    for item in prefs[person1]:\n",
    "        if item in prefs[person2]:\n",
    "            si[item]=1\n",
    "    # if they have no ratings common, return 0\n",
    "    if len(si)==0: return 0\n",
    "    \n",
    "    # Add up the squares of all the differences\n",
    "    sum_of_squares=sum([pow(prefs[person1][item]-prefs[person2][item],2)\n",
    "                       for item in prefs[person1] if item in prefs[person2]])\n",
    "    return 1/(1+sum_of_squares)\n",
    "sim_distance(critics,'Lisa Rose','Gene Seymour')"
   ]
  },
  {
   "cell_type": "code",
   "execution_count": 4,
   "metadata": {
    "collapsed": false
   },
   "outputs": [
    {
     "data": {
      "text/plain": [
       "0.39605901719066977"
      ]
     },
     "execution_count": 4,
     "metadata": {},
     "output_type": "execute_result"
    }
   ],
   "source": [
    "# Return the peorson Correlation coefficient for p1 and p2\n",
    "def sim_pearson(prefs,p1,p2):\n",
    "    # Get the list of mutually rated items\n",
    "    si={}\n",
    "    for item in prefs[p1]:\n",
    "        if item in prefs[p2]:\n",
    "            si[item]=1\n",
    "    # If they have no ratings common, return 0\n",
    "    n=len(si)\n",
    "    if n==0: return 0\n",
    "    \n",
    "    # Add up all the preferences \n",
    "    sum1=sum([prefs[p1][it] for it in si])\n",
    "    sum2=sum([prefs[p2][it] for it in si])\n",
    "    \n",
    "    # Sum up the squares\n",
    "    sum1Sq=sum([pow(prefs[p1][it],2) for it in si])\n",
    "    sum2Sq=sum([pow(prefs[p2][it],2) for it in si])\n",
    "    \n",
    "    # Sum up the products \n",
    "    pSum=sum([prefs[p1][it]*prefs[p2][it] for it in si])\n",
    "    \n",
    "    # Calculate the score\n",
    "    num=pSum-(sum1*sum2/n)\n",
    "    den=sqrt((sum1Sq-pow(sum1,2)/n)*(sum2Sq-pow(sum2,2)/n))\n",
    "    if den==0:return 0\n",
    "    r=num/den\n",
    "    return r\n",
    "sim_pearson(critics,'Lisa Rose','Gene Seymour')"
   ]
  },
  {
   "cell_type": "code",
   "execution_count": 5,
   "metadata": {
    "collapsed": false
   },
   "outputs": [
    {
     "data": {
      "text/plain": [
       "[(0.9912407071619305, 'Mick LaSalle'),\n",
       " (0.9912407071619299, 'Lisa Rose'),\n",
       " (0.7924058156930613, 'Claudia Puig')]"
      ]
     },
     "execution_count": 5,
     "metadata": {},
     "output_type": "execute_result"
    }
   ],
   "source": [
    "# Return the best matches for person \n",
    "def TopMatch(prefs,person,n=5,similarity=sim_pearson):\n",
    "    scores=[(similarity(prefs,person,other),other) for other in prefs if other!=person ]\n",
    "    scores.sort()\n",
    "    scores.reverse()\n",
    "    return scores[0:n]\n",
    "TopMatch(critics,'Toby',n=3)"
   ]
  },
  {
   "cell_type": "code",
   "execution_count": 6,
   "metadata": {
    "collapsed": false
   },
   "outputs": [],
   "source": [
    "# Gets reccommendations for a person by using a weighted average of every other user's rankings\n",
    "def getRecommendations(prefs,person,similarity=sim_pearson):\n",
    "    totals={}\n",
    "    simSums={}\n",
    "    for other in prefs:\n",
    "        # don't compare me to myself\n",
    "        if other==person: continue\n",
    "        sim=similarity(prefs,person,other)\n",
    "        \n",
    "        # Ignore scores of zero or lower\n",
    "        if sim<=0: continue\n",
    "        for item in prefs[other]:\n",
    "            # Only score movies I haven't seen yet\n",
    "            if item not in prefs[person] or prefs[person][item]==0:\n",
    "                # Similarity * score\n",
    "                totals.setdefault(item,0)\n",
    "                totals[item]+=prefs[other][item]*sim\n",
    "                # Sum of similarities\n",
    "                simSums.setdefault(item,0)\n",
    "                simSums[item]+=sim\n",
    "    # Create the normalized test\n",
    "    rankings=[(total/simSums[item],item) for item,total in totals.items()]\n",
    "    \n",
    "    # Return the sorted list\n",
    "    rankings.sort()\n",
    "    rankings.reverse()\n",
    "    return rankings"
   ]
  },
  {
   "cell_type": "code",
   "execution_count": 7,
   "metadata": {
    "collapsed": false
   },
   "outputs": [
    {
     "data": {
      "text/plain": [
       "[(3.5968256715351132, 'The Night Listener'),\n",
       " (2.766476219878039, 'Lady in the water'),\n",
       " (2.6302731236047805, 'Just My Luck')]"
      ]
     },
     "execution_count": 7,
     "metadata": {},
     "output_type": "execute_result"
    }
   ],
   "source": [
    "getRecommendations(critics,'Toby')"
   ]
  },
  {
   "cell_type": "code",
   "execution_count": 8,
   "metadata": {
    "collapsed": true
   },
   "outputs": [],
   "source": [
    "def transformPrefs(prefs):\n",
    "    result={}\n",
    "    for person in prefs:\n",
    "        for item in prefs[person]:\n",
    "            result.setdefault(item,{})\n",
    "            \n",
    "            #Flip item and person\n",
    "            result[item][person]=prefs[person][item]\n",
    "            \n",
    "    return result"
   ]
  },
  {
   "cell_type": "code",
   "execution_count": 9,
   "metadata": {
    "collapsed": false
   },
   "outputs": [
    {
     "data": {
      "text/plain": [
       "[(0.86824314212446, 'Lady in the water'),\n",
       " (0.6172133998483683, 'You, Me and Dupree'),\n",
       " (0.41358509593425646, 'Snakes on a Plane'),\n",
       " (0, 'Snakes on a plane'),\n",
       " (-0.5281619138643917, 'The Night Listener')]"
      ]
     },
     "execution_count": 9,
     "metadata": {},
     "output_type": "execute_result"
    }
   ],
   "source": [
    "movies = transformPrefs(critics)\n",
    "TopMatch(movies,'Superman Returns')"
   ]
  },
  {
   "cell_type": "code",
   "execution_count": 10,
   "metadata": {
    "collapsed": false
   },
   "outputs": [],
   "source": [
    "#------------------------------ITEM BASED FILTERING-------------------------------#\n",
    "def calculateSimilarItems(prefs,n=10):\n",
    "    # Create a dictionary of items showing which other items they are most similar to.\n",
    "    result={}\n",
    "    # Invert the preferance matrix to be item-centric\n",
    "    itemPref=transformPrefs(prefs)\n",
    "    c=0\n",
    "    for item in itemPref:\n",
    "        # Status updates for large datasets\n",
    "        c+=1\n",
    "        if c%100==0: print \"%d / %d\" %(c,len(itemPref))\n",
    "        # find the most similar items to this one\n",
    "        scores=TopMatch(itemPref,item,n=n,similarity=sim_distance)\n",
    "        result[item]=scores\n",
    "    return result"
   ]
  },
  {
   "cell_type": "code",
   "execution_count": 11,
   "metadata": {
    "collapsed": false
   },
   "outputs": [],
   "source": [
    "def getRecommendedItems(prefs,itemMatch,user):\n",
    "    userRatings=prefs[user]\n",
    "    scores={}\n",
    "    totalSim={}\n",
    "    \n",
    "    # Loop over items rated by this user\n",
    "    for (item,rating) in userRatings.items():\n",
    "        \n",
    "        # Loop over items similar to this one\n",
    "        for (similarity,item2) in itemMatch[item]:\n",
    "            # Ignore if this user has already rated this item\n",
    "            if item2 in userRatings:continue\n",
    "            # Weighted sum of rating similarity\n",
    "            scores.setdefault(item2,0)\n",
    "            scores[item2]+=similarity*rating\n",
    "            # Sum of all the similarities \n",
    "            totalSim.setdefault(item2,0)\n",
    "            totalSim[item2]+=similarity\n",
    "\n",
    "    # Divide each total score by total weighting to get an average\n",
    "    rankings=[(score/totalSim[item],item) for item,score in scores.items()]\n",
    "    \n",
    "    # Return the ranking from highest to lowest\n",
    "    rankings.sort()\n",
    "    rankings.reverse()\n",
    "    return rankings"
   ]
  },
  {
   "cell_type": "code",
   "execution_count": 12,
   "metadata": {
    "collapsed": true
   },
   "outputs": [],
   "source": [
    "def loadMovieLens(path='Data'):\n",
    "    # Get movie titles \n",
    "    movies={}\n",
    "    for line in open(path+'/u.item'):\n",
    "        (id,title)=line.split('|')[0:2]\n",
    "        movies[id]=title\n",
    "        \n",
    "    # Load data\n",
    "    prefs={}\n",
    "    for line in open(path+'/u.data'):\n",
    "        (user,movieid,rating,ts)=line.split('\\t')\n",
    "        prefs.setdefault(user,{})\n",
    "        prefs[user][movies[movieid]]=float(rating)\n",
    "    return prefs"
   ]
  },
  {
   "cell_type": "code",
   "execution_count": 13,
   "metadata": {
    "collapsed": false
   },
   "outputs": [
    {
     "name": "stdout",
     "output_type": "stream",
     "text": [
      "100 / 1664\n",
      "200 / 1664\n",
      "300 / 1664\n",
      "400 / 1664\n",
      "500 / 1664\n",
      "600 / 1664\n",
      "700 / 1664\n",
      "800 / 1664\n",
      "900 / 1664\n",
      "1000 / 1664\n",
      "1100 / 1664\n",
      "1200 / 1664\n",
      "1300 / 1664\n",
      "1400 / 1664\n",
      "1500 / 1664\n",
      "1600 / 1664\n"
     ]
    },
    {
     "data": {
      "text/plain": [
       "[(5.0, \"Young Poisoner's Handbook, The (1995)\"),\n",
       " (5.0, 'Young Guns II (1990)'),\n",
       " (5.0, 'Young Guns (1988)'),\n",
       " (5.0, 'Yankee Zulu (1994)'),\n",
       " (5.0, 'Wyatt Earp (1994)'),\n",
       " (5.0, 'Wrong Trousers, The (1993)'),\n",
       " (5.0, 'Woman in Question, The (1950)'),\n",
       " (5.0, 'Wolf (1994)'),\n",
       " (5.0, 'Withnail and I (1987)'),\n",
       " (5.0, 'With Honors (1994)'),\n",
       " (5.0, 'Winter Guest, The (1997)'),\n",
       " (5.0, 'Winnie the Pooh and the Blustery Day (1968)'),\n",
       " (5.0, 'Wings of Desire (1987)'),\n",
       " (5.0, \"William Shakespeare's Romeo and Juliet (1996)\"),\n",
       " (5.0, 'Wild Bunch, The (1969)'),\n",
       " (5.0, \"Widows' Peak (1994)\"),\n",
       " (5.0, 'Whole Wide World, The (1996)'),\n",
       " (5.0, 'White Squall (1996)'),\n",
       " (5.0, 'When a Man Loves a Woman (1994)'),\n",
       " (5.0, \"What's Love Got to Do with It (1993)\"),\n",
       " (5.0, \"What's Eating Gilbert Grape (1993)\"),\n",
       " (5.0, \"Wend Kuuni (God's Gift) (1982)\"),\n",
       " (5.0, 'Waterworld (1995)'),\n",
       " (5.0, 'Walkabout (1971)'),\n",
       " (5.0, 'Walk in the Clouds, A (1995)'),\n",
       " (5.0, 'Virtuosity (1995)'),\n",
       " (5.0, 'Vie est belle, La (Life is Rosey) (1987)'),\n",
       " (5.0, 'Very Brady Sequel, A (1996)'),\n",
       " (5.0, 'Vermont Is For Lovers (1992)'),\n",
       " (5.0, 'Vanya on 42nd Street (1994)')]"
      ]
     },
     "execution_count": 13,
     "metadata": {},
     "output_type": "execute_result"
    }
   ],
   "source": [
    "prefs=loadMovieLens()\n",
    "itemsim=calculateSimilarItems(prefs,n=50)\n",
    "getRecommendedItems(prefs,itemsim,'86')[0:30]"
   ]
  },
  {
   "cell_type": "code",
   "execution_count": 66,
   "metadata": {},
   "outputs": [],
   "source": [
    "# def load_music(path='music'):\n",
    "#     # Get artists \n",
    "#     artists, users = {}, {}\n",
    "#     for line in open(path+'/artist_data.txt'):\n",
    "#         try:\n",
    "#             id, artist = line.split('\\t')\n",
    "#             artists[id.strip()] = artist.strip()\n",
    "#         except:\n",
    "#             pass\n",
    "# #     for line in open(path+'/user_artist_data.txt'):\n",
    "#     with open(path+'/user_artist_data.txt') as myfile:\n",
    "#         head = [next(myfile) for x in xrange(200000)]\n",
    "#     for line in head:\n",
    "#         try:\n",
    "#             user, artist, count = line.split(' ')\n",
    "#             user = user.strip()\n",
    "#             if user in users.keys():\n",
    "# #                 print '1'\n",
    "#                 if artist.strip() in artists:\n",
    "#                     users[user] = users[user].update({artists[artist.strip()]: count.strip()}) \n",
    "# #                 print user, artist, count\n",
    "#             else:\n",
    "#                 users[user] = {}\n",
    "#                 if artist.strip() in artists:\n",
    "#                     users[user] = users[user].update({artists[artist.strip()]: count.strip()}) \n",
    "# #                 print '2'\n",
    "#         except:\n",
    "#             pass\n",
    "#     return users, artists"
   ]
  },
  {
   "cell_type": "code",
   "execution_count": 67,
   "metadata": {},
   "outputs": [],
   "source": [
    "# pref, artists = load_music()"
   ]
  },
  {
   "cell_type": "code",
   "execution_count": null,
   "metadata": {},
   "outputs": [],
   "source": []
  }
 ],
 "metadata": {
  "kernelspec": {
   "display_name": "Python 2",
   "language": "python",
   "name": "python2"
  },
  "language_info": {
   "codemirror_mode": {
    "name": "ipython",
    "version": 2
   },
   "file_extension": ".py",
   "mimetype": "text/x-python",
   "name": "python",
   "nbconvert_exporter": "python",
   "pygments_lexer": "ipython2",
   "version": "2.7.12"
  }
 },
 "nbformat": 4,
 "nbformat_minor": 0
}
